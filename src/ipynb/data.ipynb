{
 "cells": [
  {
   "cell_type": "markdown",
   "id": "7e39f6ea",
   "metadata": {},
   "source": [
    "# This notebook is to visualize the cat vs dog dataset"
   ]
  },
  {
   "cell_type": "code",
   "execution_count": 5,
   "id": "032672cc",
   "metadata": {},
   "outputs": [],
   "source": [
    "from pathlib import Path\n",
    "\n",
    "base = Path(\"../../data\") / \"PetImages\" / \"Cat\""
   ]
  },
  {
   "cell_type": "code",
   "execution_count": 8,
   "id": "db8d60ae",
   "metadata": {},
   "outputs": [
    {
     "name": "stdout",
     "output_type": "stream",
     "text": [
      "4102 unique sizes found from 12490 total images.\n",
      "Average size: (410.89, 356.99)\n"
     ]
    }
   ],
   "source": [
    "\n",
    "import os\n",
    "from PIL import Image\n",
    "\n",
    "files = os.listdir(base)\n",
    "seen_sizes = []\n",
    "\n",
    "for file in files:\n",
    "    filepath = base / file\n",
    "\n",
    "    try:\n",
    "        with Image.open(filepath) as img:\n",
    "            size = img.size\n",
    "\n",
    "            seen_sizes.append(size)\n",
    "    except Exception:\n",
    "        pass\n",
    "\n",
    "print(f\"{len(set(seen_sizes))} unique sizes found from {len(seen_sizes)} total images.\")\n",
    "avg_width = sum(w for w, _ in seen_sizes) / len(seen_sizes)\n",
    "avg_height = sum(h for _, h in seen_sizes) / len(seen_sizes)\n",
    "print(f\"Average size: ({avg_width:.2f}, {avg_height:.2f})\")"
   ]
  }
 ],
 "metadata": {
  "kernelspec": {
   "display_name": "pyml",
   "language": "python",
   "name": "python3"
  },
  "language_info": {
   "codemirror_mode": {
    "name": "ipython",
    "version": 3
   },
   "file_extension": ".py",
   "mimetype": "text/x-python",
   "name": "python",
   "nbconvert_exporter": "python",
   "pygments_lexer": "ipython3",
   "version": "3.11.13"
  }
 },
 "nbformat": 4,
 "nbformat_minor": 5
}
